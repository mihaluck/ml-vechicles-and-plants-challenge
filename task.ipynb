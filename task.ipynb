{
 "cells": [
  {
   "cell_type": "code",
   "execution_count": 1,
   "metadata": {
    "tags": []
   },
   "outputs": [
    {
     "name": "stdout",
     "output_type": "stream",
     "text": [
      "Number of replicas: 1\n",
      "2.8.0\n"
     ]
    }
   ],
   "source": [
    "import os\n",
    "import numpy as np\n",
    "import pandas as pd\n",
    "import tensorflow as tf\n",
    "import matplotlib.pyplot as plt\n",
    "from sklearn.model_selection import train_test_split\n",
    "from os import makedirs\n",
    "from os import listdir\n",
    "import json\n",
    "from pandas.io.json import json_normalize #package for flattening json in pandas df\n",
    "from shutil import copyfile\n",
    "\n",
    "try:\n",
    "    tpu = tf.distribute.cluster_resolver.TPUClusterResolver()\n",
    "    print('Device:', tpu.master())\n",
    "    tf.config.experimental_connect_to_cluster(tpu)\n",
    "    tf.tpu.experimental.initialize_tpu_system(tpu)\n",
    "    strategy = tf.distribute.experimental.TPUStrategy(tpu)\n",
    "except:\n",
    "    strategy = tf.distribute.get_strategy()\n",
    "print('Number of replicas:', strategy.num_replicas_in_sync)\n",
    "    \n",
    "print(tf.__version__)"
   ]
  },
  {
   "cell_type": "code",
   "execution_count": 2,
   "metadata": {
    "tags": []
   },
   "outputs": [],
   "source": [
    "AUTOTUNE = tf.data.experimental.AUTOTUNE\n",
    "BATCH_SIZE = 16 * strategy.num_replicas_in_sync\n",
    "IMAGE_SIZE = [30,30]\n",
    "EPOCHS = 100"
   ]
  },
  {
   "cell_type": "code",
   "execution_count": 3,
   "metadata": {},
   "outputs": [
    {
     "name": "stdout",
     "output_type": "stream",
     "text": [
      "There are 3104 images \n"
     ]
    }
   ],
   "source": [
    "# PATHS TO IMAGES\n",
    "PATH = \"data/\"\n",
    "IMGS = listdir(PATH); \n",
    "print('There are %i images '%(len(IMGS)))"
   ]
  },
  {
   "cell_type": "code",
   "execution_count": 4,
   "metadata": {},
   "outputs": [],
   "source": [
    "#load json object\n",
    "with open('data.json') as f:\n",
    "    d = json.load(f)\n",
    "#lets put the data into a pandas df\n",
    "data = pd.json_normalize(d, 'initial_bundle')\n",
    "test = pd.json_normalize(d, 'test_bundle')"
   ]
  },
  {
   "cell_type": "code",
   "execution_count": 5,
   "metadata": {},
   "outputs": [],
   "source": [
    "# organize dataset into a useful structure\n",
    "# create directories\n",
    "dataset_home = 'Vehicles_vs_Plants/'\n",
    "subdirs = ['train/', 'test/']\n",
    "for subdir in subdirs:\n",
    "    # create label subdirectories\n",
    "    labeldirs = ['Vehicles/', 'Plants/','Other/']\n",
    "    for labldir in labeldirs:\n",
    "        newdir = dataset_home + subdir + labldir\n",
    "        makedirs(newdir, exist_ok=True)\n",
    "# copy datasets images into subdirectories\n",
    "src_directory = PATH\n",
    "for file in listdir(src_directory):\n",
    "    src = src_directory + file\n",
    "    if 'data/' + file in test.file.tolist():\n",
    "        dst_dir = 'test/'\n",
    "        d = test\n",
    "    else:\n",
    "        dst_dir = 'train/'\n",
    "        d = data\n",
    "    if any(d[d.file == 'data/' + file]['category.name'] == 'Vehicles'):\n",
    "        dst = dataset_home + dst_dir + 'Vehicles/' + file\n",
    "    elif any(d[d.file == 'data/' + file]['category.name'] == 'Plants'):\n",
    "        dst = dataset_home + dst_dir + 'Plants/' + file\n",
    "    else:\n",
    "        dst = dataset_home + dst_dir + 'Other/'  + file\n",
    "    copyfile(src, dst)"
   ]
  },
  {
   "cell_type": "code",
   "execution_count": 9,
   "metadata": {
    "tags": []
   },
   "outputs": [],
   "source": [
    "filenames = tf.io.gfile.glob(str(\"Vehicles_vs_Plants/train/*/*.jp*g\"))\n",
    "filenames.extend(tf.io.gfile.glob(str(\"Vehicles_vs_Plants/train/*/*.png\")))\n",
    "train_filenames, val_filenames = train_test_split(filenames, test_size=0.2)\n",
    "test_filenames = tf.io.gfile.glob(str(\"Vehicles_vs_Plants/test/*/*.jp*g\"))\n",
    "test_filenames.extend(tf.io.gfile.glob(str(\"Vehicles_vs_Plants/test/*/*.png\")))"
   ]
  },
  {
   "cell_type": "code",
   "execution_count": 10,
   "metadata": {
    "tags": []
   },
   "outputs": [
    {
     "name": "stdout",
     "output_type": "stream",
     "text": [
      "Other images count in training set: 972\n",
      "Plants images count in training set: 134\n",
      "Vehicles images count in training set: 140\n"
     ]
    }
   ],
   "source": [
    "COUNT_OTHER = len([filename for filename in train_filenames if \"Other\" in filename])\n",
    "print(\"Other images count in training set: \" + str(COUNT_OTHER))\n",
    "\n",
    "COUNT_PLANTS = len([filename for filename in train_filenames if \"\\\\Plants\" in filename])\n",
    "print(\"Plants images count in training set: \" + str(COUNT_PLANTS))\n",
    "\n",
    "COUNT_VEHICLES = len([filename for filename in train_filenames if \"\\\\Vehicles\" in filename])\n",
    "print(\"Vehicles images count in training set: \" + str(COUNT_VEHICLES))\n"
   ]
  },
  {
   "cell_type": "code",
   "execution_count": 11,
   "metadata": {
    "tags": []
   },
   "outputs": [
    {
     "name": "stdout",
     "output_type": "stream",
     "text": [
      "b'Vehicles_vs_Plants\\\\train\\\\Other\\\\be9b2fa4-aef6-4e56-b9a9-920aae199ae5.png'\n",
      "b'Vehicles_vs_Plants\\\\train\\\\Other\\\\48c4b30c-712e-48b3-addd-840908bc6588.png'\n",
      "b'Vehicles_vs_Plants\\\\train\\\\Vehicles\\\\0f0fea5a-b551-4b6d-a12a-89fbcd456228.png'\n",
      "b'Vehicles_vs_Plants\\\\train\\\\Plants\\\\f276aee7-fe4f-4102-8349-4037101c9d1d.png'\n",
      "b'Vehicles_vs_Plants\\\\train\\\\Other\\\\6a352984-e1d0-4a01-9c2f-dda8e7831473.jpg'\n"
     ]
    }
   ],
   "source": [
    "train_list_ds = tf.data.Dataset.from_tensor_slices(train_filenames)\n",
    "val_list_ds = tf.data.Dataset.from_tensor_slices(val_filenames)\n",
    "\n",
    "for f in train_list_ds.take(5):\n",
    "    print(f.numpy())"
   ]
  },
  {
   "cell_type": "code",
   "execution_count": 12,
   "metadata": {
    "tags": []
   },
   "outputs": [
    {
     "name": "stdout",
     "output_type": "stream",
     "text": [
      "Training images count: 1246\n",
      "Validating images count: 312\n"
     ]
    }
   ],
   "source": [
    "TRAIN_IMG_COUNT = tf.data.experimental.cardinality(train_list_ds).numpy()\n",
    "print(\"Training images count: \" + str(TRAIN_IMG_COUNT))\n",
    "\n",
    "VAL_IMG_COUNT = tf.data.experimental.cardinality(val_list_ds).numpy()\n",
    "print(\"Validating images count: \" + str(VAL_IMG_COUNT))"
   ]
  },
  {
   "cell_type": "code",
   "execution_count": 13,
   "metadata": {
    "tags": []
   },
   "outputs": [
    {
     "data": {
      "text/plain": [
       "array(['Other', 'Plants', 'Vehicles'], dtype='<U8')"
      ]
     },
     "execution_count": 13,
     "metadata": {},
     "output_type": "execute_result"
    }
   ],
   "source": [
    "CLASS_NAMES = np.array([str(tf.strings.split(item, os.path.sep)[-1].numpy())[2:-1]\n",
    "                        for item in tf.io.gfile.glob(str( \"Vehicles_vs_Plants/train/*\"))])\n",
    "CLASS_NAMES"
   ]
  },
  {
   "cell_type": "code",
   "execution_count": 14,
   "metadata": {
    "tags": []
   },
   "outputs": [],
   "source": [
    "def get_label(file_path):\n",
    "    # convert the path to a list of path components\n",
    "    parts = tf.strings.split(file_path, os.path.sep)\n",
    "    # The second to last is the class-directory\n",
    "    if parts[-2] == \"Other\":\n",
    "        return 0\n",
    "    elif  parts[-2] == \"Plants\":\n",
    "        return 1\n",
    "    else:\n",
    "        return 2"
   ]
  },
  {
   "cell_type": "code",
   "execution_count": 15,
   "metadata": {
    "tags": []
   },
   "outputs": [],
   "source": [
    "def decode_img(img):\n",
    "  # convert the compressed string to a 3D uint8 tensor\n",
    "    img = tf.cond(\n",
    "    tf.image.is_jpeg(img),\n",
    "    lambda: tf.image.decode_jpeg(img, channels=3),\n",
    "    lambda: tf.image.decode_png(img, channels=3))\n",
    "  # Use `convert_image_dtype` to convert to floats in the [0,1] range.\n",
    "    img = tf.image.convert_image_dtype(img, tf.float32)\n",
    "  # resize the image to the desired size.\n",
    "    return tf.image.resize(img, IMAGE_SIZE)"
   ]
  },
  {
   "cell_type": "code",
   "execution_count": 16,
   "metadata": {
    "tags": []
   },
   "outputs": [],
   "source": [
    "def process_path(file_path):\n",
    "    label = get_label(file_path)\n",
    "    # load the raw data from the file as a string\n",
    "    img = tf.io.read_file(file_path)\n",
    "    img = decode_img(img)\n",
    "    return img, label"
   ]
  },
  {
   "cell_type": "code",
   "execution_count": 17,
   "metadata": {
    "tags": []
   },
   "outputs": [],
   "source": [
    "train_ds = train_list_ds.map(process_path, num_parallel_calls=AUTOTUNE)\n",
    "\n",
    "val_ds = val_list_ds.map(process_path, num_parallel_calls=AUTOTUNE)"
   ]
  },
  {
   "cell_type": "code",
   "execution_count": 18,
   "metadata": {
    "tags": []
   },
   "outputs": [
    {
     "name": "stdout",
     "output_type": "stream",
     "text": [
      "Image shape:  (30, 30, 3)\n",
      "Label:  0\n"
     ]
    }
   ],
   "source": [
    "for image, label in train_ds.take(1):\n",
    "    print(\"Image shape: \", image.numpy().shape)\n",
    "    print(\"Label: \", label.numpy())"
   ]
  },
  {
   "cell_type": "code",
   "execution_count": 19,
   "metadata": {
    "tags": []
   },
   "outputs": [
    {
     "data": {
      "text/plain": [
       "1545"
      ]
     },
     "execution_count": 19,
     "metadata": {},
     "output_type": "execute_result"
    }
   ],
   "source": [
    "test_list_ds = tf.data.Dataset.from_tensor_slices(test_filenames)\n",
    "test_ds = test_list_ds.map(process_path, num_parallel_calls=AUTOTUNE)\n",
    "test_ds = test_ds.batch(BATCH_SIZE)\n",
    "TEST_IMAGE_COUNT = tf.data.experimental.cardinality(test_list_ds).numpy()\n",
    "TEST_IMAGE_COUNT"
   ]
  },
  {
   "cell_type": "code",
   "execution_count": 20,
   "metadata": {
    "tags": []
   },
   "outputs": [
    {
     "name": "stdout",
     "output_type": "stream",
     "text": [
      "Image shape:  (30, 30, 3)\n",
      "Label:  0\n"
     ]
    }
   ],
   "source": [
    "for image, label in train_ds.take(1):\n",
    "    print(\"Image shape: \", image.numpy().shape)\n",
    "    print(\"Label: \", label.numpy())"
   ]
  },
  {
   "cell_type": "code",
   "execution_count": 21,
   "metadata": {
    "tags": []
   },
   "outputs": [],
   "source": [
    "def prepare_for_training(ds, cache=True, shuffle_buffer_size=2000):\n",
    "    # This is a small dataset, only load it once, and keep it in memory.\n",
    "    # use `.cache(filename)` to cache preprocessing work for datasets that don't\n",
    "    # fit in memory.\n",
    "    if cache:\n",
    "        if isinstance(cache, str):\n",
    "            ds = ds.cache(cache)\n",
    "        else:\n",
    "            ds = ds.cache()\n",
    "\n",
    "    ds = ds.shuffle(buffer_size=shuffle_buffer_size)\n",
    "\n",
    "    # Repeat forever\n",
    "    ds = ds.repeat()\n",
    "\n",
    "    ds = ds.batch(BATCH_SIZE)\n",
    "\n",
    "    # `prefetch` lets the dataset fetch batches in the background while the model\n",
    "    # is training.\n",
    "    ds = ds.prefetch(buffer_size=AUTOTUNE)\n",
    "\n",
    "    return ds"
   ]
  },
  {
   "cell_type": "code",
   "execution_count": 22,
   "metadata": {
    "tags": []
   },
   "outputs": [],
   "source": [
    "train_ds = prepare_for_training(train_ds)\n",
    "val_ds = prepare_for_training(val_ds)\n",
    "\n",
    "image_batch, label_batch = next(iter(train_ds))"
   ]
  },
  {
   "cell_type": "code",
   "execution_count": 23,
   "metadata": {
    "tags": []
   },
   "outputs": [],
   "source": [
    "def show_batch(image_batch, label_batch):\n",
    "    plt.figure(figsize=(10,10))\n",
    "    for n in range(16):\n",
    "        ax = plt.subplot(5,5,n+1)\n",
    "        plt.imshow(image_batch[n])\n",
    "        if label_batch[n] == 0:\n",
    "            plt.title(\"OTHER\")\n",
    "        elif label_batch[n] == 1:\n",
    "            plt.title(\"PLANTS\")\n",
    "        else :\n",
    "            plt.title(\"VEHICLES\")\n",
    "        plt.axis(\"off\")"
   ]
  },
  {
   "cell_type": "code",
   "execution_count": 24,
   "metadata": {
    "tags": []
   },
   "outputs": [
    {
     "data": {
      "image/png": "[encoded data removed]",
      "text/plain": [
       "<Figure size 720x720 with 16 Axes>"
      ]
     },
     "metadata": {
      "needs_background": "light"
     },
     "output_type": "display_data"
    }
   ],
   "source": [
    "show_batch(image_batch.numpy(), label_batch.numpy())"
   ]
  },
  {
   "cell_type": "code",
   "execution_count": 25,
   "metadata": {
    "tags": []
   },
   "outputs": [
    {
     "data": {
      "text/plain": [
       "array([2.11607567])"
      ]
     },
     "execution_count": 25,
     "metadata": {},
     "output_type": "execute_result"
    }
   ],
   "source": [
    "initial_bias = np.log([(COUNT_OTHER+COUNT_VEHICLES)/COUNT_PLANTS])\n",
    "initial_bias"
   ]
  },
  {
   "cell_type": "code",
   "execution_count": 26,
   "metadata": {
    "tags": []
   },
   "outputs": [
    {
     "name": "stdout",
     "output_type": "stream",
     "text": [
      "Weight for class 0: 0.43\n",
      "Weight for class 1: 3.10\n",
      "Weight for class 2: 2.97\n"
     ]
    }
   ],
   "source": [
    "weight_for_0 = (1 / COUNT_OTHER)*(TRAIN_IMG_COUNT)/3.0 \n",
    "weight_for_1 = (1 / COUNT_PLANTS)*(TRAIN_IMG_COUNT)/3.0\n",
    "weight_for_2 = (1 / COUNT_VEHICLES)*(TRAIN_IMG_COUNT)/3.0\n",
    "\n",
    "class_weight = {0: weight_for_0, 1: weight_for_1, 2: weight_for_2}\n",
    "\n",
    "print('Weight for class 0: {:.2f}'.format(weight_for_0))\n",
    "print('Weight for class 1: {:.2f}'.format(weight_for_1))\n",
    "print('Weight for class 2: {:.2f}'.format(weight_for_2))"
   ]
  },
  {
   "cell_type": "code",
   "execution_count": 148,
   "metadata": {
    "tags": []
   },
   "outputs": [],
   "source": [
    "from tensorflow import keras\n",
    "from tensorflow.python.keras import layers\n",
    "\n",
    "model = keras.Sequential([\n",
    "    # Data augmentation is not included in the model because images are only taken in a specific orientation, and variations such as flips and rotations not presented if train and test images.\n",
    "    \n",
    "    # Block One\n",
    "    layers.Conv2D(filters=16, kernel_size=3, activation='relu', padding='same',\n",
    "                  input_shape=[IMAGE_SIZE[0], IMAGE_SIZE[1], 3]),\n",
    "    layers.MaxPool2D(),\n",
    "    tf.keras.layers.BatchNormalization(),\n",
    "    # Block Two\n",
    "    layers.Conv2D(filters=32, kernel_size=3, activation='relu', padding='same'),\n",
    "    layers.MaxPool2D(),\n",
    "    tf.keras.layers.BatchNormalization(),\n",
    "    layers.Dropout(0.8),\n",
    "    \n",
    "    #Dense layers\n",
    "    \n",
    "    layers.Flatten(),\n",
    "    layers.Dense(32, activation='relu'),\n",
    "    layers.Dense(10, activation='relu'),,\n",
    "    layers.Dense(3, activation='softmax'),\n",
    "])"
   ]
  },
  {
   "cell_type": "code",
   "execution_count": 149,
   "metadata": {
    "tags": []
   },
   "outputs": [],
   "source": [
    "model.compile(\n",
    "        optimizer='adam',\n",
    "        loss='sparse_categorical_crossentropy',\n",
    "        metrics='sparse_categorical_accuracy'\n",
    "    )"
   ]
  },
  {
   "cell_type": "code",
   "execution_count": 150,
   "metadata": {
    "tags": []
   },
   "outputs": [
    {
     "name": "stdout",
     "output_type": "stream",
     "text": [
      "Epoch 1/100\n",
      "77/77 [==============================] - 2s 14ms/step - loss: 1.3364 - sparse_categorical_accuracy: 0.3157 - val_loss: 0.9658 - val_sparse_categorical_accuracy: 0.6513\n",
      "Epoch 2/100\n",
      "77/77 [==============================] - 1s 11ms/step - loss: 0.8961 - sparse_categorical_accuracy: 0.5398 - val_loss: 0.7456 - val_sparse_categorical_accuracy: 0.6678\n",
      "Epoch 3/100\n",
      "77/77 [==============================] - 1s 11ms/step - loss: 0.7000 - sparse_categorical_accuracy: 0.6437 - val_loss: 0.6834 - val_sparse_categorical_accuracy: 0.6447\n",
      "Epoch 4/100\n",
      "77/77 [==============================] - 1s 12ms/step - loss: 0.6637 - sparse_categorical_accuracy: 0.6859 - val_loss: 0.4320 - val_sparse_categorical_accuracy: 0.8750\n",
      "Epoch 5/100\n",
      "77/77 [==============================] - 1s 12ms/step - loss: 0.5422 - sparse_categorical_accuracy: 0.7638 - val_loss: 0.5399 - val_sparse_categorical_accuracy: 0.7566\n",
      "Epoch 6/100\n",
      "77/77 [==============================] - 1s 11ms/step - loss: 0.4697 - sparse_categorical_accuracy: 0.7825 - val_loss: 0.4473 - val_sparse_categorical_accuracy: 0.8059\n",
      "Epoch 7/100\n",
      "77/77 [==============================] - 1s 12ms/step - loss: 0.4334 - sparse_categorical_accuracy: 0.7938 - val_loss: 0.8308 - val_sparse_categorical_accuracy: 0.6678\n",
      "Epoch 8/100\n",
      "77/77 [==============================] - 1s 12ms/step - loss: 0.4501 - sparse_categorical_accuracy: 0.7597 - val_loss: 0.4477 - val_sparse_categorical_accuracy: 0.7632\n",
      "Epoch 9/100\n",
      "77/77 [==============================] - 1s 11ms/step - loss: 0.3873 - sparse_categorical_accuracy: 0.8052 - val_loss: 0.4356 - val_sparse_categorical_accuracy: 0.7961\n",
      "Epoch 10/100\n",
      "77/77 [==============================] - 1s 11ms/step - loss: 0.3502 - sparse_categorical_accuracy: 0.8214 - val_loss: 0.3912 - val_sparse_categorical_accuracy: 0.8059\n",
      "Epoch 11/100\n",
      "77/77 [==============================] - 1s 11ms/step - loss: 0.3457 - sparse_categorical_accuracy: 0.8125 - val_loss: 0.3550 - val_sparse_categorical_accuracy: 0.8224\n",
      "Epoch 12/100\n",
      "77/77 [==============================] - 1s 11ms/step - loss: 0.3131 - sparse_categorical_accuracy: 0.8369 - val_loss: 0.3905 - val_sparse_categorical_accuracy: 0.8224\n",
      "Epoch 13/100\n",
      "77/77 [==============================] - 1s 13ms/step - loss: 0.3278 - sparse_categorical_accuracy: 0.8287 - val_loss: 0.4084 - val_sparse_categorical_accuracy: 0.8026\n",
      "Epoch 14/100\n",
      "77/77 [==============================] - 1s 12ms/step - loss: 0.2647 - sparse_categorical_accuracy: 0.8539 - val_loss: 0.3653 - val_sparse_categorical_accuracy: 0.8224\n",
      "Epoch 15/100\n",
      "77/77 [==============================] - 1s 12ms/step - loss: 0.3068 - sparse_categorical_accuracy: 0.8482 - val_loss: 0.4453 - val_sparse_categorical_accuracy: 0.7763\n",
      "Epoch 16/100\n",
      "77/77 [==============================] - 1s 12ms/step - loss: 0.3062 - sparse_categorical_accuracy: 0.8352 - val_loss: 0.3667 - val_sparse_categorical_accuracy: 0.8191\n",
      "Epoch 17/100\n",
      "77/77 [==============================] - 1s 12ms/step - loss: 0.2374 - sparse_categorical_accuracy: 0.8669 - val_loss: 0.4776 - val_sparse_categorical_accuracy: 0.7993\n",
      "Epoch 18/100\n",
      "77/77 [==============================] - 1s 12ms/step - loss: 0.2588 - sparse_categorical_accuracy: 0.8701 - val_loss: 0.5016 - val_sparse_categorical_accuracy: 0.7796\n",
      "Epoch 19/100\n",
      "77/77 [==============================] - 1s 12ms/step - loss: 0.2266 - sparse_categorical_accuracy: 0.8734 - val_loss: 0.2309 - val_sparse_categorical_accuracy: 0.8947\n",
      "Epoch 20/100\n",
      "77/77 [==============================] - 1s 12ms/step - loss: 0.2673 - sparse_categorical_accuracy: 0.8718 - val_loss: 0.4199 - val_sparse_categorical_accuracy: 0.8224\n",
      "Epoch 21/100\n",
      "77/77 [==============================] - 1s 12ms/step - loss: 0.2577 - sparse_categorical_accuracy: 0.8693 - val_loss: 0.4267 - val_sparse_categorical_accuracy: 0.7993\n",
      "Epoch 22/100\n",
      "77/77 [==============================] - 1s 14ms/step - loss: 0.2691 - sparse_categorical_accuracy: 0.8571 - val_loss: 0.2482 - val_sparse_categorical_accuracy: 0.8914\n",
      "Epoch 23/100\n",
      "77/77 [==============================] - 1s 13ms/step - loss: 0.2432 - sparse_categorical_accuracy: 0.8791 - val_loss: 0.3194 - val_sparse_categorical_accuracy: 0.8849\n",
      "Epoch 24/100\n",
      "77/77 [==============================] - 1s 12ms/step - loss: 0.2229 - sparse_categorical_accuracy: 0.8782 - val_loss: 0.3263 - val_sparse_categorical_accuracy: 0.8553\n",
      "Epoch 25/100\n",
      "77/77 [==============================] - 1s 12ms/step - loss: 0.1944 - sparse_categorical_accuracy: 0.8896 - val_loss: 0.3347 - val_sparse_categorical_accuracy: 0.8618\n",
      "Epoch 26/100\n",
      "77/77 [==============================] - 1s 13ms/step - loss: 0.1873 - sparse_categorical_accuracy: 0.8961 - val_loss: 0.1274 - val_sparse_categorical_accuracy: 0.9474\n",
      "Epoch 27/100\n",
      "77/77 [==============================] - 1s 12ms/step - loss: 0.2412 - sparse_categorical_accuracy: 0.8961 - val_loss: 0.3759 - val_sparse_categorical_accuracy: 0.8454\n",
      "Epoch 28/100\n",
      "77/77 [==============================] - 1s 12ms/step - loss: 0.1553 - sparse_categorical_accuracy: 0.9156 - val_loss: 0.4127 - val_sparse_categorical_accuracy: 0.8289\n",
      "Epoch 29/100\n",
      "77/77 [==============================] - 1s 12ms/step - loss: 0.1978 - sparse_categorical_accuracy: 0.8912 - val_loss: 0.3322 - val_sparse_categorical_accuracy: 0.8684\n",
      "Epoch 30/100\n",
      "77/77 [==============================] - 1s 12ms/step - loss: 0.1979 - sparse_categorical_accuracy: 0.9123 - val_loss: 0.2468 - val_sparse_categorical_accuracy: 0.8882\n",
      "Epoch 31/100\n",
      "77/77 [==============================] - 1s 13ms/step - loss: 0.1705 - sparse_categorical_accuracy: 0.9067 - val_loss: 0.3721 - val_sparse_categorical_accuracy: 0.8421\n",
      "Epoch 32/100\n",
      "77/77 [==============================] - 1s 12ms/step - loss: 0.1383 - sparse_categorical_accuracy: 0.9148 - val_loss: 0.2477 - val_sparse_categorical_accuracy: 0.8882\n",
      "Epoch 33/100\n",
      "77/77 [==============================] - 1s 12ms/step - loss: 0.1807 - sparse_categorical_accuracy: 0.9067 - val_loss: 0.4573 - val_sparse_categorical_accuracy: 0.8322\n",
      "Epoch 34/100\n",
      "77/77 [==============================] - 1s 13ms/step - loss: 0.1928 - sparse_categorical_accuracy: 0.9058 - val_loss: 0.1994 - val_sparse_categorical_accuracy: 0.9046\n",
      "Epoch 35/100\n",
      "77/77 [==============================] - 1s 13ms/step - loss: 0.1833 - sparse_categorical_accuracy: 0.9107 - val_loss: 0.2902 - val_sparse_categorical_accuracy: 0.8816\n",
      "Epoch 36/100\n",
      "77/77 [==============================] - 1s 12ms/step - loss: 0.1433 - sparse_categorical_accuracy: 0.9229 - val_loss: 0.1888 - val_sparse_categorical_accuracy: 0.9112\n",
      "Epoch 37/100\n",
      "77/77 [==============================] - 1s 14ms/step - loss: 0.1490 - sparse_categorical_accuracy: 0.9261 - val_loss: 0.2164 - val_sparse_categorical_accuracy: 0.8816\n",
      "Epoch 38/100\n",
      "77/77 [==============================] - 1s 13ms/step - loss: 0.1196 - sparse_categorical_accuracy: 0.9375 - val_loss: 0.2022 - val_sparse_categorical_accuracy: 0.9079\n",
      "Epoch 39/100\n",
      "77/77 [==============================] - 1s 13ms/step - loss: 0.1230 - sparse_categorical_accuracy: 0.9343 - val_loss: 0.2156 - val_sparse_categorical_accuracy: 0.8882\n",
      "Epoch 40/100\n",
      "77/77 [==============================] - 1s 14ms/step - loss: 0.1271 - sparse_categorical_accuracy: 0.9253 - val_loss: 0.1626 - val_sparse_categorical_accuracy: 0.9079\n",
      "Epoch 41/100\n",
      "77/77 [==============================] - 1s 15ms/step - loss: 0.1467 - sparse_categorical_accuracy: 0.9351 - val_loss: 0.1569 - val_sparse_categorical_accuracy: 0.9309\n",
      "Epoch 42/100\n",
      "77/77 [==============================] - 1s 13ms/step - loss: 0.1376 - sparse_categorical_accuracy: 0.9359 - val_loss: 0.2573 - val_sparse_categorical_accuracy: 0.9013\n",
      "Epoch 43/100\n",
      "77/77 [==============================] - 1s 13ms/step - loss: 0.1422 - sparse_categorical_accuracy: 0.9213 - val_loss: 0.3287 - val_sparse_categorical_accuracy: 0.8684\n",
      "Epoch 44/100\n",
      "77/77 [==============================] - 1s 13ms/step - loss: 0.0928 - sparse_categorical_accuracy: 0.9472 - val_loss: 0.1539 - val_sparse_categorical_accuracy: 0.9309\n",
      "Epoch 45/100\n",
      "77/77 [==============================] - 1s 12ms/step - loss: 0.0791 - sparse_categorical_accuracy: 0.9529 - val_loss: 0.1036 - val_sparse_categorical_accuracy: 0.9507\n",
      "Epoch 46/100\n",
      "77/77 [==============================] - 1s 12ms/step - loss: 0.1056 - sparse_categorical_accuracy: 0.9318 - val_loss: 0.1480 - val_sparse_categorical_accuracy: 0.9408\n",
      "Epoch 47/100\n",
      "77/77 [==============================] - 1s 12ms/step - loss: 0.1113 - sparse_categorical_accuracy: 0.9456 - val_loss: 0.2770 - val_sparse_categorical_accuracy: 0.8684\n",
      "Epoch 48/100\n",
      "77/77 [==============================] - 1s 11ms/step - loss: 0.1175 - sparse_categorical_accuracy: 0.9351 - val_loss: 0.3074 - val_sparse_categorical_accuracy: 0.8717\n",
      "Epoch 49/100\n",
      "77/77 [==============================] - 1s 11ms/step - loss: 0.1436 - sparse_categorical_accuracy: 0.9205 - val_loss: 0.3004 - val_sparse_categorical_accuracy: 0.8651\n",
      "Epoch 50/100\n",
      "77/77 [==============================] - 1s 13ms/step - loss: 0.1147 - sparse_categorical_accuracy: 0.9310 - val_loss: 0.1748 - val_sparse_categorical_accuracy: 0.9079\n",
      "Epoch 51/100\n",
      "77/77 [==============================] - 1s 12ms/step - loss: 0.0836 - sparse_categorical_accuracy: 0.9529 - val_loss: 0.1129 - val_sparse_categorical_accuracy: 0.9605\n",
      "Epoch 52/100\n",
      "77/77 [==============================] - 1s 12ms/step - loss: 0.0889 - sparse_categorical_accuracy: 0.9481 - val_loss: 0.2429 - val_sparse_categorical_accuracy: 0.9046\n",
      "Epoch 53/100\n",
      "77/77 [==============================] - 1s 11ms/step - loss: 0.1502 - sparse_categorical_accuracy: 0.9343 - val_loss: 0.2005 - val_sparse_categorical_accuracy: 0.9112\n",
      "Epoch 54/100\n",
      "77/77 [==============================] - 1s 11ms/step - loss: 0.1145 - sparse_categorical_accuracy: 0.9318 - val_loss: 0.1814 - val_sparse_categorical_accuracy: 0.9112\n",
      "Epoch 55/100\n",
      "77/77 [==============================] - 1s 11ms/step - loss: 0.1428 - sparse_categorical_accuracy: 0.9432 - val_loss: 0.2984 - val_sparse_categorical_accuracy: 0.8947\n",
      "Epoch 56/100\n",
      "77/77 [==============================] - 1s 12ms/step - loss: 0.0840 - sparse_categorical_accuracy: 0.9497 - val_loss: 0.2328 - val_sparse_categorical_accuracy: 0.9112\n",
      "Epoch 57/100\n",
      "77/77 [==============================] - 1s 12ms/step - loss: 0.1340 - sparse_categorical_accuracy: 0.9359 - val_loss: 0.1530 - val_sparse_categorical_accuracy: 0.9309\n",
      "Epoch 58/100\n",
      "77/77 [==============================] - 1s 11ms/step - loss: 0.1116 - sparse_categorical_accuracy: 0.9456 - val_loss: 0.2149 - val_sparse_categorical_accuracy: 0.8980\n",
      "Epoch 59/100\n",
      "77/77 [==============================] - 1s 11ms/step - loss: 0.1427 - sparse_categorical_accuracy: 0.9310 - val_loss: 0.2199 - val_sparse_categorical_accuracy: 0.9112\n",
      "Epoch 60/100\n",
      "77/77 [==============================] - 1s 11ms/step - loss: 0.1347 - sparse_categorical_accuracy: 0.9432 - val_loss: 0.2750 - val_sparse_categorical_accuracy: 0.8914\n",
      "Epoch 61/100\n",
      "77/77 [==============================] - 1s 12ms/step - loss: 0.0969 - sparse_categorical_accuracy: 0.9416 - val_loss: 0.1246 - val_sparse_categorical_accuracy: 0.9474\n",
      "Epoch 62/100\n",
      "77/77 [==============================] - 1s 12ms/step - loss: 0.1157 - sparse_categorical_accuracy: 0.9497 - val_loss: 0.2920 - val_sparse_categorical_accuracy: 0.8849\n",
      "Epoch 63/100\n",
      "77/77 [==============================] - 1s 12ms/step - loss: 0.1096 - sparse_categorical_accuracy: 0.9399 - val_loss: 0.2817 - val_sparse_categorical_accuracy: 0.8849\n",
      "Epoch 64/100\n",
      "77/77 [==============================] - 1s 12ms/step - loss: 0.1146 - sparse_categorical_accuracy: 0.9481 - val_loss: 0.0915 - val_sparse_categorical_accuracy: 0.9638\n",
      "Epoch 65/100\n",
      "77/77 [==============================] - 1s 11ms/step - loss: 0.1182 - sparse_categorical_accuracy: 0.9456 - val_loss: 0.2115 - val_sparse_categorical_accuracy: 0.9145\n",
      "Epoch 66/100\n",
      "77/77 [==============================] - 1s 13ms/step - loss: 0.1067 - sparse_categorical_accuracy: 0.9497 - val_loss: 0.1122 - val_sparse_categorical_accuracy: 0.9638\n",
      "Epoch 67/100\n",
      "77/77 [==============================] - 1s 13ms/step - loss: 0.1090 - sparse_categorical_accuracy: 0.9472 - val_loss: 0.2203 - val_sparse_categorical_accuracy: 0.9145\n",
      "Epoch 68/100\n",
      "77/77 [==============================] - 1s 13ms/step - loss: 0.0694 - sparse_categorical_accuracy: 0.9627 - val_loss: 0.1071 - val_sparse_categorical_accuracy: 0.9507\n",
      "Epoch 69/100\n",
      "77/77 [==============================] - 1s 12ms/step - loss: 0.1065 - sparse_categorical_accuracy: 0.9497 - val_loss: 0.3491 - val_sparse_categorical_accuracy: 0.8684\n",
      "Epoch 70/100\n",
      "77/77 [==============================] - 1s 13ms/step - loss: 0.1028 - sparse_categorical_accuracy: 0.9554 - val_loss: 0.2400 - val_sparse_categorical_accuracy: 0.9013\n",
      "Epoch 71/100\n",
      "77/77 [==============================] - 1s 16ms/step - loss: 0.0779 - sparse_categorical_accuracy: 0.9562 - val_loss: 0.1182 - val_sparse_categorical_accuracy: 0.9572\n",
      "Epoch 72/100\n",
      "77/77 [==============================] - 1s 14ms/step - loss: 0.0871 - sparse_categorical_accuracy: 0.9643 - val_loss: 0.1455 - val_sparse_categorical_accuracy: 0.9474\n",
      "Epoch 73/100\n",
      "77/77 [==============================] - 1s 13ms/step - loss: 0.0890 - sparse_categorical_accuracy: 0.9489 - val_loss: 0.1430 - val_sparse_categorical_accuracy: 0.9342\n",
      "Epoch 74/100\n",
      "77/77 [==============================] - 1s 12ms/step - loss: 0.0640 - sparse_categorical_accuracy: 0.9643 - val_loss: 0.1591 - val_sparse_categorical_accuracy: 0.9309\n",
      "Epoch 75/100\n",
      "77/77 [==============================] - 1s 13ms/step - loss: 0.0782 - sparse_categorical_accuracy: 0.9594 - val_loss: 0.1066 - val_sparse_categorical_accuracy: 0.9638\n",
      "Epoch 76/100\n",
      "77/77 [==============================] - 1s 12ms/step - loss: 0.0990 - sparse_categorical_accuracy: 0.9578 - val_loss: 0.3478 - val_sparse_categorical_accuracy: 0.8586\n",
      "Epoch 77/100\n",
      "77/77 [==============================] - 1s 12ms/step - loss: 0.0754 - sparse_categorical_accuracy: 0.9554 - val_loss: 0.1795 - val_sparse_categorical_accuracy: 0.9276\n",
      "Epoch 78/100\n",
      "77/77 [==============================] - 1s 13ms/step - loss: 0.0821 - sparse_categorical_accuracy: 0.9610 - val_loss: 0.1361 - val_sparse_categorical_accuracy: 0.9507\n",
      "Epoch 79/100\n",
      "77/77 [==============================] - 1s 13ms/step - loss: 0.0647 - sparse_categorical_accuracy: 0.9619 - val_loss: 0.1390 - val_sparse_categorical_accuracy: 0.9375\n",
      "Epoch 80/100\n",
      "77/77 [==============================] - 1s 12ms/step - loss: 0.1135 - sparse_categorical_accuracy: 0.9505 - val_loss: 0.2159 - val_sparse_categorical_accuracy: 0.9112\n",
      "Epoch 81/100\n",
      "77/77 [==============================] - 1s 12ms/step - loss: 0.1114 - sparse_categorical_accuracy: 0.9529 - val_loss: 0.1930 - val_sparse_categorical_accuracy: 0.9211\n",
      "Epoch 82/100\n",
      "77/77 [==============================] - 1s 12ms/step - loss: 0.0680 - sparse_categorical_accuracy: 0.9578 - val_loss: 0.1756 - val_sparse_categorical_accuracy: 0.9309\n",
      "Epoch 83/100\n",
      "77/77 [==============================] - 1s 12ms/step - loss: 0.0810 - sparse_categorical_accuracy: 0.9586 - val_loss: 0.1815 - val_sparse_categorical_accuracy: 0.9145\n",
      "Epoch 84/100\n",
      "77/77 [==============================] - 1s 12ms/step - loss: 0.0878 - sparse_categorical_accuracy: 0.9562 - val_loss: 0.0962 - val_sparse_categorical_accuracy: 0.9638\n",
      "Epoch 85/100\n",
      "77/77 [==============================] - 1s 12ms/step - loss: 0.0813 - sparse_categorical_accuracy: 0.9667 - val_loss: 0.2011 - val_sparse_categorical_accuracy: 0.9112\n",
      "Epoch 86/100\n",
      "77/77 [==============================] - 1s 13ms/step - loss: 0.0674 - sparse_categorical_accuracy: 0.9610 - val_loss: 0.0790 - val_sparse_categorical_accuracy: 0.9671\n",
      "Epoch 87/100\n",
      "77/77 [==============================] - 1s 12ms/step - loss: 0.0590 - sparse_categorical_accuracy: 0.9708 - val_loss: 0.1167 - val_sparse_categorical_accuracy: 0.9539\n",
      "Epoch 88/100\n",
      "77/77 [==============================] - 1s 12ms/step - loss: 0.0787 - sparse_categorical_accuracy: 0.9651 - val_loss: 0.2258 - val_sparse_categorical_accuracy: 0.9046\n",
      "Epoch 89/100\n",
      "77/77 [==============================] - 1s 12ms/step - loss: 0.0579 - sparse_categorical_accuracy: 0.9708 - val_loss: 0.1348 - val_sparse_categorical_accuracy: 0.9474\n",
      "Epoch 90/100\n",
      "77/77 [==============================] - 1s 13ms/step - loss: 0.0522 - sparse_categorical_accuracy: 0.9700 - val_loss: 0.1240 - val_sparse_categorical_accuracy: 0.9539\n",
      "Epoch 91/100\n",
      "77/77 [==============================] - 1s 12ms/step - loss: 0.0607 - sparse_categorical_accuracy: 0.9700 - val_loss: 0.1240 - val_sparse_categorical_accuracy: 0.9539\n",
      "Epoch 92/100\n",
      "77/77 [==============================] - 1s 12ms/step - loss: 0.0981 - sparse_categorical_accuracy: 0.9619 - val_loss: 0.1876 - val_sparse_categorical_accuracy: 0.9243\n",
      "Epoch 93/100\n",
      "77/77 [==============================] - 1s 12ms/step - loss: 0.0644 - sparse_categorical_accuracy: 0.9700 - val_loss: 0.1921 - val_sparse_categorical_accuracy: 0.9211\n",
      "Epoch 94/100\n",
      "77/77 [==============================] - 1s 11ms/step - loss: 0.0955 - sparse_categorical_accuracy: 0.9562 - val_loss: 0.1407 - val_sparse_categorical_accuracy: 0.9572\n",
      "Epoch 95/100\n",
      "77/77 [==============================] - 1s 11ms/step - loss: 0.0860 - sparse_categorical_accuracy: 0.9619 - val_loss: 0.1348 - val_sparse_categorical_accuracy: 0.9474\n",
      "Epoch 96/100\n",
      "77/77 [==============================] - 1s 12ms/step - loss: 0.0670 - sparse_categorical_accuracy: 0.9651 - val_loss: 0.1351 - val_sparse_categorical_accuracy: 0.9572\n",
      "Epoch 97/100\n",
      "77/77 [==============================] - 1s 12ms/step - loss: 0.0488 - sparse_categorical_accuracy: 0.9748 - val_loss: 0.0895 - val_sparse_categorical_accuracy: 0.9671\n",
      "Epoch 98/100\n",
      "77/77 [==============================] - 1s 12ms/step - loss: 0.0549 - sparse_categorical_accuracy: 0.9675 - val_loss: 0.1209 - val_sparse_categorical_accuracy: 0.9539\n",
      "Epoch 99/100\n",
      "77/77 [==============================] - 1s 13ms/step - loss: 0.0531 - sparse_categorical_accuracy: 0.9692 - val_loss: 0.1729 - val_sparse_categorical_accuracy: 0.9276\n",
      "Epoch 100/100\n",
      "77/77 [==============================] - 1s 13ms/step - loss: 0.0643 - sparse_categorical_accuracy: 0.9716 - val_loss: 0.1339 - val_sparse_categorical_accuracy: 0.9507\n"
     ]
    }
   ],
   "source": [
    "history = model.fit(\n",
    "    train_ds,\n",
    "    steps_per_epoch=TRAIN_IMG_COUNT // (BATCH_SIZE),\n",
    "    epochs=EPOCHS,\n",
    "    validation_data=val_ds,\n",
    "    validation_steps=VAL_IMG_COUNT // (BATCH_SIZE),\n",
    "    class_weight=class_weight,\n",
    ")"
   ]
  },
  {
   "cell_type": "code",
   "execution_count": 151,
   "metadata": {
    "tags": []
   },
   "outputs": [
    {
     "data": {
      "image/png": "[encoded data removed]",
      "text/plain": [
       "<Figure size 432x288 with 1 Axes>"
      ]
     },
     "metadata": {
      "needs_background": "light"
     },
     "output_type": "display_data"
    },
    {
     "data": {
      "image/png": "[encoded data removed]",
      "text/plain": [
       "<Figure size 432x288 with 1 Axes>"
      ]
     },
     "metadata": {
      "needs_background": "light"
     },
     "output_type": "display_data"
    }
   ],
   "source": [
    "import pandas as pd\n",
    "history_frame = pd.DataFrame(history.history)\n",
    "history_frame.loc[:, ['loss', 'val_loss']].plot()\n",
    "history_frame.loc[:, ['sparse_categorical_accuracy', 'val_sparse_categorical_accuracy']].plot();"
   ]
  },
  {
   "cell_type": "code",
   "execution_count": null,
   "metadata": {
    "tags": []
   },
   "outputs": [],
   "source": [
    "pred = model.predict(test_ds)\n",
    "predictions = np.argmax(pred, axis=-1)\n",
    "probability = np.max(pred, axis=-1)\n",
    "labels = {1:'Plants',2:'Vehicles'}\n",
    "results = [(test_filenames[i].split('\\\\')[-1], \"{:.3%}\".format(probability[i]), labels[predictions[i]]) for i, v in enumerate(predictions.tolist()) if predictions[i] == 1 or predictions[i] == 2]\n",
    "[i for i in results if i]"
   ]
  }
 ],
 "metadata": {
  "kernelspec": {
   "display_name": "Python 3 (ipykernel)",
   "language": "python",
   "name": "python3"
  },
  "language_info": {
   "codemirror_mode": {
    "name": "ipython",
    "version": 3
   },
   "file_extension": ".py",
   "mimetype": "text/x-python",
   "name": "python",
   "nbconvert_exporter": "python",
   "pygments_lexer": "ipython3",
   "version": "3.10.3"
  }
 },
 "nbformat": 4,
 "nbformat_minor": 4
}
